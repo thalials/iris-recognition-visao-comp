{
 "cells": [
  {
   "cell_type": "code",
   "execution_count": null,
   "metadata": {
    "id": "iQ0jBF1nlUJ-"
   },
   "outputs": [],
   "source": [
    "# Projeto Visão computacional - reconhecimento da íris \n",
    "# objetivo:\n",
    "# 1. Criar um modelo de treinamento usando a base de dados fornecida - melhorar a qualidade das imagens\n",
    "# 2. obter a matriz de confusão do modelo \n",
    "# 3. analisar os resultados"
   ]
  },
  {
   "cell_type": "code",
   "execution_count": null,
   "metadata": {
    "colab": {
     "base_uri": "https://localhost:8080/"
    },
    "id": "r6t1QYRulZCJ",
    "outputId": "7a5a266d-494d-419c-ba19-a18a68fcb5f9"
   },
   "outputs": [],
   "source": [
    "!git clone https://github.com/lucianosilva-github/G6_iris_recognition.git"
   ]
  },
  {
   "cell_type": "code",
   "execution_count": null,
   "metadata": {
    "colab": {
     "base_uri": "https://localhost:8080/"
    },
    "id": "K7U60boRloCx",
    "outputId": "cb2e5c86-9c94-4f45-8768-5325ffb1539b"
   },
   "outputs": [],
   "source": [
    "# clone do repositorio em que estao as imagens originais - sem nenhum tipo de tratamento \n",
    "!git clone https://github.com/lucianosilva-github/images.git"
   ]
  },
  {
   "cell_type": "code",
   "execution_count": null,
   "metadata": {
    "id": "e_7yglCPlqUi"
   },
   "outputs": [],
   "source": [
    "# images_train -> pasta com poucas imagens. Apenas utilizadas pra treinamento inicial do programa \n",
    "# imagens_train_processadas -> pasta com imagens processadas "
   ]
  },
  {
   "cell_type": "code",
   "execution_count": 1,
   "metadata": {},
   "outputs": [],
   "source": [
    "import cv2\n",
    "import cv2 as cv\n",
    "import os\n",
    "from os import walk\n",
    "import numpy as np\n",
    "from matplotlib import pyplot as plt\n",
    "import pywt"
   ]
  },
  {
   "cell_type": "code",
   "execution_count": 2,
   "metadata": {
    "id": "l5JygC_u1As6"
   },
   "outputs": [],
   "source": [
    "# Various recommendations exist for starting values of these parameters,\n",
    "# and the meaning may differ between implementations. \n",
    "# Generally a radius of 0.5 to 2 pixels and an amount of 50–150% is recommended.\n",
    "\n",
    "# fonte: https://en.wikipedia.org/wiki/Unsharp_masking#Digital_unsharp_masking\n",
    "def sharpen_image(img, kernel_size=(5, 5), sigma=1.5, amount=2.0, threshold=0):\n",
    "    blurred = cv2.GaussianBlur(img, kernel_size, sigma)\n",
    "\n",
    "    # formula para melhorar a nitidez da imagem \n",
    "    sharpened = float(amount + 1) * img - float(amount) * blurred\n",
    "\n",
    "    sharpened = np.maximum(sharpened, np.zeros(sharpened.shape))\n",
    "    sharpened = np.minimum(sharpened, 255 * np.ones(sharpened.shape))\n",
    "    sharpened = sharpened.round().astype(np.uint8)\n",
    "\n",
    "    if threshold > 0:\n",
    "        low_contrast_mask = np.absolute(img - blurred) < threshold\n",
    "        np.copyto(sharpened, img, where=low_contrast_mask)\n",
    "\n",
    "    return sharpened"
   ]
  },
  {
   "cell_type": "code",
   "execution_count": 3,
   "metadata": {},
   "outputs": [],
   "source": [
    "def apply_brightness_contrast(input_img, brightness = 0, contrast = 0):\n",
    "    if brightness != 0:\n",
    "        if brightness > 0:\n",
    "            shadow = brightness\n",
    "            highlight = 255\n",
    "        else:\n",
    "            shadow = 0\n",
    "            highlight = 255 + brightness\n",
    "        alpha_b = (highlight - shadow)/255\n",
    "        gamma_b = shadow\n",
    "        \n",
    "        buf = cv2.addWeighted(input_img, alpha_b, input_img, 0, gamma_b)\n",
    "    else:\n",
    "        buf = input_img.copy()\n",
    "    \n",
    "    if contrast != 0:\n",
    "        f = 131*(contrast + 127)/(127*(131-contrast))\n",
    "        alpha_c = f\n",
    "        gamma_c = 127*(1-f)\n",
    "        \n",
    "        buf = cv2.addWeighted(buf, alpha_c, buf, 0, gamma_c)\n",
    "\n",
    "    return buf"
   ]
  },
  {
   "cell_type": "code",
   "execution_count": 61,
   "metadata": {
    "scrolled": true
   },
   "outputs": [
    {
     "data": {
      "image/png": "[encoded data removed]",
      "text/plain": [
       "<Figure size 432x288 with 1 Axes>"
      ]
     },
     "metadata": {
      "needs_background": "light"
     },
     "output_type": "display_data"
    }
   ],
   "source": [
    "# plotar o histograma da imagem\n",
    "image = cv2.imread('images/0000/0000_008.bmp')\n",
    "img = cv2.cvtColor(image, cv2.COLOR_BGR2GRAY)\n",
    "\n",
    "plt.hist(img.ravel(),bins=255,range=[0,255]) # da pra ver melhor os dois picos b-> range=[100,225]\n",
    "plt.show()"
   ]
  },
  {
   "cell_type": "code",
   "execution_count": 82,
   "metadata": {},
   "outputs": [
    {
     "name": "stdout",
     "output_type": "stream",
     "text": [
      "142.0\n"
     ]
    }
   ],
   "source": [
    "clahe = cv2.createCLAHE(clipLimit =2.0, tileGridSize=(8,8))\n",
    "cl_img = clahe.apply(img)\n",
    "\n",
    "ret, thresh3 = cv2.threshold(cl_img, 0, 255, cv2.THRESH_BINARY + cv2.THRESH_OTSU)\n",
    "\n",
    "print(ret)\n",
    "# print(thresh3resh3)\n",
    "\n",
    "cv2.imshow('image', cl_img)\n",
    "\n",
    "cv2.waitKey(0)\n",
    "cv2.destroyAllWindows()"
   ]
  },
  {
   "cell_type": "code",
   "execution_count": 59,
   "metadata": {},
   "outputs": [
    {
     "data": {
      "image/png": "[encoded data removed]",
      "text/plain": [
       "<Figure size 432x288 with 1 Axes>"
      ]
     },
     "metadata": {
      "needs_background": "light"
     },
     "output_type": "display_data"
    }
   ],
   "source": [
    "plt.hist(cl_img.ravel(),bins=255,range=[0,255]) # da pra ver melhor os dois picos -> range=[100,225]\n",
    "plt.show()"
   ]
  },
  {
   "cell_type": "code",
   "execution_count": 69,
   "metadata": {
    "scrolled": true
   },
   "outputs": [
    {
     "data": {
      "image/png": "[encoded data removed]",
      "text/plain": [
       "<Figure size 432x288 with 1 Axes>"
      ]
     },
     "metadata": {
      "needs_background": "light"
     },
     "output_type": "display_data"
    }
   ],
   "source": [
    "# equalizacao da clahe\n",
    "img_equ = cv2.equalizeHist(cl_img)\n",
    "\n",
    "plt.hist(img_equ.ravel(),bins=255,range=[0,255]) # da pra ver melhor os dois picos b-> range=[100,225]\n",
    "plt.show()\n"
   ]
  },
  {
   "cell_type": "code",
   "execution_count": 88,
   "metadata": {},
   "outputs": [],
   "source": [
    "kernel = np.array([[0, -1, 0],\n",
    "                   [-1, 5,-1],\n",
    "                   [0, -1, 0]])\n",
    "\n",
    "img_s = cv2.filter2D(cl_img, -1, kernel)\n",
    "\n",
    "T, img_bin = cv.threshold(img_s.astype('uint8'),127,255,cv.THRESH_BINARY)\n",
    "# T , img_bin = cv.threshold(img_s.astype('uint8'),0,255,cv.THRESH_BINARY)\n",
    "img_bin = cv.GaussianBlur(img_bin,(11,11),50)\n",
    "new_img = img_s.copy()\n",
    "rows, cols = new_img.shape\n",
    "\n",
    "for l in range(rows):\n",
    "    for c in range(cols):\n",
    "        if img_bin[l][c] > T:\n",
    "            new_img[l][c] = 255\n",
    "            \n",
    "            \n",
    "cv2.imshow('image', new_img)\n",
    "\n",
    "cv2.waitKey(0)\n",
    "cv2.destroyAllWindows()"
   ]
  },
  {
   "cell_type": "code",
   "execution_count": 54,
   "metadata": {},
   "outputs": [],
   "source": [
    "kernel = np.array([[0, -1, 0],\n",
    "                   [-1, 5,-1],\n",
    "                   [0, -1, 0]])\n",
    "\n",
    "img_bin = cv.GaussianBlur(thresh3,(11,11),50)\n",
    "img_s = cv2.filter2D(img_bin, -1, kernel)\n",
    "\n",
    "cv2.imshow('image', imgt)\n",
    "\n",
    "cv2.waitKey(0)\n",
    "cv2.destroyAllWindows()"
   ]
  },
  {
   "cell_type": "code",
   "execution_count": 55,
   "metadata": {
    "colab": {
     "base_uri": "https://localhost:8080/",
     "height": 1000
    },
    "id": "LM_tSLDJ1Tmy",
    "outputId": "3f9ccc49-7960-4fed-fad9-c5ddcac5ba42"
   },
   "outputs": [],
   "source": [
    "T, imgt = cv2.threshold(img, 0, 255, cv2.THRESH_BINARY+cv2.THRESH_OTSU)\n",
    "\n",
    "# cortar a imagem em 512 x 512 \n",
    "# img = img[100:376, 70:366] # region of interest\n",
    "\n",
    "img_equ = cv2.equalizeHist(img)\n",
    "\n",
    "img_s = sharpen_image(img, threshold=T)\n",
    "\n",
    "T , img_bin = cv.threshold(img_s.astype('uint8'),0,255,cv.THRESH_BINARY+cv.THRESH_OTSU)\n",
    "img_bin = cv.GaussianBlur(img_bin,(11,11),50)\n",
    "new_img = img_s.copy()\n",
    "rows, cols = new_img.shape\n",
    "\n",
    "for l in range(rows):\n",
    "    for c in range(cols):\n",
    "        if img_bin[l][c] > T:\n",
    "            new_img[l][c] = 255\n",
    "            \n",
    "# ajuste do brilho e do contraste\n",
    "out = apply_brightness_contrast(new_img, 40, 30)\n",
    "edges = cv.Canny(out, 100, 200)\n",
    "\n",
    "# res = np.hstack((edges, out))\n",
    "\n",
    "# print das imagens. Comparacao da saida com a atual\n",
    "cv2.imshow('image', imgt)\n",
    "\n",
    "cv2.waitKey(0)\n",
    "cv2.destroyAllWindows()"
   ]
  },
  {
   "cell_type": "code",
   "execution_count": 102,
   "metadata": {},
   "outputs": [],
   "source": [
    "def percorre_pastas(num_pasta):\n",
    "    for (dirpath, dirnames, filenames) in walk(\"images/00{}\".format(num_pasta)):\n",
    "        for e in filenames:\n",
    "            image = cv.imread(\"images/00{0}/{1}\".format(num_pasta, e))\n",
    "            img = cv2.cvtColor(image, cv2.COLOR_BGR2GRAY)\n",
    "\n",
    "            # qual a magia que essa funcao faz?\n",
    "            clahe = cv2.createCLAHE(clipLimit=2.0, tileGridSize=(8,8))\n",
    "            cl_img = clahe.apply(img)\n",
    "\n",
    "            directory =\"images_train_processadas/00{}/\".format(num_pasta)\n",
    "\n",
    "            if not os.path.exists(directory):\n",
    "                os.makedirs(directory)\n",
    "\n",
    "            filename = \"images_train_processadas/00{0}/{1}\".format(num_pasta, e)\n",
    "            \n",
    "            cv.imwrite(filename, cl_img)"
   ]
  },
  {
   "cell_type": "code",
   "execution_count": 103,
   "metadata": {
    "colab": {
     "base_uri": "https://localhost:8080/",
     "height": 1000
    },
    "id": "-HzTbKsAp4Gz",
    "outputId": "b3822381-53c7-444f-e4d3-bd0d89ae7961"
   },
   "outputs": [],
   "source": [
    "# processamento para varias imagens\n",
    "for i in range(0, 60):\n",
    "    if i < 10:\n",
    "        n =\"0{}\".format(i)\n",
    "        percorre_pastas(n)\n",
    "    else :\n",
    "        percorre_pastas(i)\n",
    "       "
   ]
  },
  {
   "cell_type": "code",
   "execution_count": 108,
   "metadata": {
    "id": "33tUR9NIDnL5"
   },
   "outputs": [
    {
     "name": "stdout",
     "output_type": "stream",
     "text": [
      "True\n"
     ]
    }
   ],
   "source": [
    "print('samuel' == 'samuel')"
   ]
  },
  {
   "cell_type": "code",
   "execution_count": 96,
   "metadata": {
    "colab": {
     "base_uri": "https://localhost:8080/"
    },
    "id": "8zI1Gr25q12O",
    "outputId": "f44c2b39-96c4-48a9-9e94-7be67c24dff9"
   },
   "outputs": [
    {
     "name": "stdout",
     "output_type": "stream",
     "text": [
      "directory_list ['./images_train_processadas\\\\0000', './images_train_processadas\\\\0001']\n",
      "name 0000\n",
      "path_to_image ./images_train_processadas\\0000\\0000_000.bmp\n",
      "path_to_image ./images_train_processadas\\0000\\0000_001.bmp\n",
      "path_to_image ./images_train_processadas\\0000\\0000_002.bmp\n",
      "path_to_image ./images_train_processadas\\0000\\0000_003.bmp\n",
      "path_to_image ./images_train_processadas\\0000\\0000_004.bmp\n",
      "rectangle expression1\n",
      "path_to_image ./images_train_processadas\\0000\\0000_005.bmp\n",
      "rectangle expression1\n",
      "path_to_image ./images_train_processadas\\0000\\0000_006.bmp\n",
      "path_to_image ./images_train_processadas\\0000\\0000_007.bmp\n",
      "path_to_image ./images_train_processadas\\0000\\0000_008.bmp\n",
      "path_to_image ./images_train_processadas\\0000\\0000_009.bmp\n",
      "path_to_image ./images_train_processadas\\0000\\0000_010.bmp\n",
      "path_to_image ./images_train_processadas\\0000\\0000_011.bmp\n",
      "path_to_image ./images_train_processadas\\0000\\0000_012.bmp\n",
      "path_to_image ./images_train_processadas\\0000\\0000_013.bmp\n",
      "path_to_image ./images_train_processadas\\0000\\0000_014.bmp\n",
      "path_to_image ./images_train_processadas\\0000\\0000_015.bmp\n",
      "path_to_image ./images_train_processadas\\0000\\0000_016.bmp\n",
      "path_to_image ./images_train_processadas\\0000\\0000_017.bmp\n",
      "path_to_image ./images_train_processadas\\0000\\0000_018.bmp\n",
      "path_to_image ./images_train_processadas\\0000\\0000_019.bmp\n",
      "rectangle expression1\n",
      "invalid_image 0000\n",
      "name 0001\n",
      "path_to_image ./images_train_processadas\\0001\\0001_000.bmp\n",
      "path_to_image ./images_train_processadas\\0001\\0001_001.bmp\n",
      "path_to_image ./images_train_processadas\\0001\\0001_002.bmp\n",
      "path_to_image ./images_train_processadas\\0001\\0001_003.bmp\n",
      "path_to_image ./images_train_processadas\\0001\\0001_004.bmp\n",
      "path_to_image ./images_train_processadas\\0001\\0001_005.bmp\n",
      "locate expression 1 index 640 is out of bounds for axis 1 with size 640\n",
      "rectangle expression2 not enough values to unpack (expected 2, got 1)\n",
      "path_to_image ./images_train_processadas\\0001\\0001_006.bmp\n",
      "locate expression 1 index 640 is out of bounds for axis 1 with size 640\n",
      "rectangle expression2 not enough values to unpack (expected 2, got 1)\n",
      "path_to_image ./images_train_processadas\\0001\\0001_007.bmp\n",
      "locate expression 1 index 640 is out of bounds for axis 1 with size 640\n",
      "rectangle expression2 not enough values to unpack (expected 2, got 1)\n",
      "path_to_image ./images_train_processadas\\0001\\0001_008.bmp\n",
      "path_to_image ./images_train_processadas\\0001\\0001_009.bmp\n",
      "locate expression 1 index 640 is out of bounds for axis 1 with size 640\n",
      "rectangle expression2 not enough values to unpack (expected 2, got 1)\n",
      "path_to_image ./images_train_processadas\\0001\\0001_010.bmp\n",
      "locate expression 1 index 640 is out of bounds for axis 1 with size 640\n",
      "rectangle expression2 not enough values to unpack (expected 2, got 1)\n",
      "path_to_image ./images_train_processadas\\0001\\0001_011.bmp\n",
      "locate expression 1 local variable 'east_mark' referenced before assignment\n",
      "rectangle expression2 not enough values to unpack (expected 2, got 1)\n",
      "path_to_image ./images_train_processadas\\0001\\0001_012.bmp\n",
      "path_to_image ./images_train_processadas\\0001\\0001_013.bmp\n",
      "path_to_image ./images_train_processadas\\0001\\0001_014.bmp\n",
      "locate expression 1 index 640 is out of bounds for axis 1 with size 640\n",
      "rectangle expression2 not enough values to unpack (expected 2, got 1)\n",
      "path_to_image ./images_train_processadas\\0001\\0001_015.bmp\n",
      "locate expression 1 index 640 is out of bounds for axis 1 with size 640\n",
      "rectangle expression2 not enough values to unpack (expected 2, got 1)\n",
      "path_to_image ./images_train_processadas\\0001\\0001_016.bmp\n",
      "locate expression 1 index 640 is out of bounds for axis 1 with size 640\n",
      "rectangle expression2 not enough values to unpack (expected 2, got 1)\n",
      "path_to_image ./images_train_processadas\\0001\\0001_017.bmp\n",
      "locate expression 1 index 640 is out of bounds for axis 1 with size 640\n",
      "rectangle expression2 not enough values to unpack (expected 2, got 1)\n",
      "path_to_image ./images_train_processadas\\0001\\0001_018.bmp\n",
      "locate expression 1 index 640 is out of bounds for axis 1 with size 640\n",
      "rectangle expression2 not enough values to unpack (expected 2, got 1)\n",
      "path_to_image ./images_train_processadas\\0001\\0001_019.bmp\n",
      "locate expression 1 index 640 is out of bounds for axis 1 with size 640\n",
      "rectangle expression2 not enough values to unpack (expected 2, got 1)\n",
      "invalid_image 0001\n",
      "train_db_model_path 0 0\n",
      "[INFO] serializing encodings...\n",
      "OK\n"
     ]
    },
    {
     "data": {
      "text/plain": [
       "[]"
      ]
     },
     "execution_count": 96,
     "metadata": {},
     "output_type": "execute_result"
    }
   ],
   "source": [
    "# inicio do teste\n",
    "import G6_iris_recognition\n",
    "\n",
    "G6_iris_recognition.iris_model_train(\"./images_train_processadas\",\"model.pickle\")"
   ]
  },
  {
   "cell_type": "code",
   "execution_count": null,
   "metadata": {},
   "outputs": [],
   "source": []
  },
  {
   "cell_type": "code",
   "execution_count": 109,
   "metadata": {
    "colab": {
     "base_uri": "https://localhost:8080/"
    },
    "id": "sGTlwRDADv27",
    "outputId": "4db40c8b-5542-440d-99c8-9935aa817cd2"
   },
   "outputs": [
    {
     "ename": "ValueError",
     "evalue": "min() arg is an empty sequence",
     "output_type": "error",
     "traceback": [
      "\u001b[1;31m---------------------------------------------------------------------------\u001b[0m",
      "\u001b[1;31mValueError\u001b[0m                                Traceback (most recent call last)",
      "\u001b[1;32m<ipython-input-109-64ac94c67cfd>\u001b[0m in \u001b[0;36m<module>\u001b[1;34m\u001b[0m\n\u001b[1;32m----> 1\u001b[1;33m \u001b[0miris_name\u001b[0m \u001b[1;33m=\u001b[0m \u001b[0mG6_iris_recognition\u001b[0m\u001b[1;33m.\u001b[0m\u001b[0miris_model_test\u001b[0m\u001b[1;33m(\u001b[0m\u001b[1;34m\"model.pickle\"\u001b[0m\u001b[1;33m,\u001b[0m\u001b[1;34m\"./images/0000/0000_000.bmp\"\u001b[0m\u001b[1;33m)\u001b[0m\u001b[1;33m\u001b[0m\u001b[1;33m\u001b[0m\u001b[0m\n\u001b[0m\u001b[0;32m      2\u001b[0m \u001b[1;32mif\u001b[0m \u001b[1;33m(\u001b[0m\u001b[0miris_name\u001b[0m\u001b[1;33m==\u001b[0m\u001b[1;34m'unmatch'\u001b[0m\u001b[1;33m)\u001b[0m\u001b[1;33m:\u001b[0m\u001b[1;33m\u001b[0m\u001b[1;33m\u001b[0m\u001b[0m\n\u001b[0;32m      3\u001b[0m     \u001b[0mprint\u001b[0m\u001b[1;33m(\u001b[0m\u001b[1;34m\"Deu ruim\"\u001b[0m\u001b[1;33m)\u001b[0m\u001b[1;33m\u001b[0m\u001b[1;33m\u001b[0m\u001b[0m\n\u001b[0;32m      4\u001b[0m \u001b[1;32melse\u001b[0m\u001b[1;33m:\u001b[0m\u001b[1;33m\u001b[0m\u001b[1;33m\u001b[0m\u001b[0m\n\u001b[0;32m      5\u001b[0m     \u001b[0mprint\u001b[0m\u001b[1;33m(\u001b[0m\u001b[1;34m\"deu bom\"\u001b[0m\u001b[1;33m)\u001b[0m\u001b[1;33m\u001b[0m\u001b[1;33m\u001b[0m\u001b[0m\n",
      "\u001b[1;32m~\\OneDrive - Insper - Institudo de Ensino e Pesquisa\\Documentos\\Insper\\6-semestre\\visao-computacional\\projeto1_iris_recognition\\G6_iris_recognition\\main.py\u001b[0m in \u001b[0;36miris_model_test\u001b[1;34m(test_encoding_model_path, image_path)\u001b[0m\n\u001b[0;32m     26\u001b[0m     \u001b[1;32mif\u001b[0m \u001b[0mos\u001b[0m\u001b[1;33m.\u001b[0m\u001b[0mpath\u001b[0m\u001b[1;33m.\u001b[0m\u001b[0mexists\u001b[0m\u001b[1;33m(\u001b[0m\u001b[0mtest_encoding_model_path\u001b[0m\u001b[1;33m)\u001b[0m\u001b[1;33m:\u001b[0m\u001b[1;33m\u001b[0m\u001b[1;33m\u001b[0m\u001b[0m\n\u001b[0;32m     27\u001b[0m         \u001b[1;32mif\u001b[0m \u001b[0mos\u001b[0m\u001b[1;33m.\u001b[0m\u001b[0mpath\u001b[0m\u001b[1;33m.\u001b[0m\u001b[0mexists\u001b[0m\u001b[1;33m(\u001b[0m\u001b[0mimage_path\u001b[0m\u001b[1;33m)\u001b[0m\u001b[1;33m:\u001b[0m\u001b[1;33m\u001b[0m\u001b[1;33m\u001b[0m\u001b[0m\n\u001b[1;32m---> 28\u001b[1;33m             \u001b[0miris_name\u001b[0m \u001b[1;33m=\u001b[0m \u001b[0miris_recg\u001b[0m\u001b[1;33m(\u001b[0m\u001b[0mtest_encoding_model_path\u001b[0m\u001b[1;33m,\u001b[0m \u001b[0mimage_path\u001b[0m\u001b[1;33m)\u001b[0m\u001b[1;33m\u001b[0m\u001b[1;33m\u001b[0m\u001b[0m\n\u001b[0m\u001b[0;32m     29\u001b[0m             \u001b[1;32mreturn\u001b[0m \u001b[0miris_name\u001b[0m\u001b[1;33m\u001b[0m\u001b[1;33m\u001b[0m\u001b[0m\n\u001b[0;32m     30\u001b[0m         \u001b[1;32melse\u001b[0m\u001b[1;33m:\u001b[0m\u001b[1;33m\u001b[0m\u001b[1;33m\u001b[0m\u001b[0m\n",
      "\u001b[1;32m~\\OneDrive - Insper - Institudo de Ensino e Pesquisa\\Documentos\\Insper\\6-semestre\\visao-computacional\\projeto1_iris_recognition\\G6_iris_recognition\\iris_matching.py\u001b[0m in \u001b[0;36miris_recg\u001b[1;34m(test_db_model_path, image)\u001b[0m\n\u001b[0;32m     31\u001b[0m             \u001b[0mnames\u001b[0m \u001b[1;33m=\u001b[0m \u001b[0mdata\u001b[0m\u001b[1;33m[\u001b[0m\u001b[1;34m\"names\"\u001b[0m\u001b[1;33m]\u001b[0m\u001b[1;33m\u001b[0m\u001b[1;33m\u001b[0m\u001b[0m\n\u001b[0;32m     32\u001b[0m             \u001b[0mq\u001b[0m \u001b[1;33m=\u001b[0m \u001b[0mque\u001b[0m\u001b[1;33m\u001b[0m\u001b[1;33m\u001b[0m\u001b[0m\n\u001b[1;32m---> 33\u001b[1;33m             \u001b[0miris_name\u001b[0m \u001b[1;33m=\u001b[0m \u001b[0mthreading\u001b[0m\u001b[1;33m.\u001b[0m\u001b[0mThread\u001b[0m\u001b[1;33m(\u001b[0m\u001b[0mtarget\u001b[0m\u001b[1;33m=\u001b[0m\u001b[0mmatch_thread\u001b[0m\u001b[1;33m(\u001b[0m\u001b[0miris_encodings\u001b[0m\u001b[1;33m,\u001b[0m\u001b[0mnames\u001b[0m\u001b[1;33m,\u001b[0m\u001b[0mimage\u001b[0m\u001b[1;33m,\u001b[0m\u001b[0mq\u001b[0m\u001b[1;33m)\u001b[0m\u001b[1;33m)\u001b[0m\u001b[1;33m.\u001b[0m\u001b[0mstart\u001b[0m\u001b[1;33m(\u001b[0m\u001b[1;33m)\u001b[0m\u001b[1;33m\u001b[0m\u001b[1;33m\u001b[0m\u001b[0m\n\u001b[0m\u001b[0;32m     34\u001b[0m             \u001b[1;32mwhile\u001b[0m \u001b[1;32mnot\u001b[0m \u001b[0mq\u001b[0m\u001b[1;33m.\u001b[0m\u001b[0mempty\u001b[0m\u001b[1;33m(\u001b[0m\u001b[1;33m)\u001b[0m\u001b[1;33m:\u001b[0m\u001b[1;33m\u001b[0m\u001b[1;33m\u001b[0m\u001b[0m\n\u001b[0;32m     35\u001b[0m                 \u001b[1;32mreturn\u001b[0m \u001b[0mq\u001b[0m\u001b[1;33m.\u001b[0m\u001b[0mget\u001b[0m\u001b[1;33m(\u001b[0m\u001b[1;33m)\u001b[0m\u001b[1;33m\u001b[0m\u001b[1;33m\u001b[0m\u001b[0m\n",
      "\u001b[1;32m~\\OneDrive - Insper - Institudo de Ensino e Pesquisa\\Documentos\\Insper\\6-semestre\\visao-computacional\\projeto1_iris_recognition\\G6_iris_recognition\\iris_matching.py\u001b[0m in \u001b[0;36mmatch_thread\u001b[1;34m(iris_encodings, names, iris_image, q)\u001b[0m\n\u001b[0;32m     41\u001b[0m         \u001b[0miris_encodings_in_image\u001b[0m \u001b[1;33m=\u001b[0m \u001b[0mengroup\u001b[0m\u001b[1;33m(\u001b[0m\u001b[0miris_image\u001b[0m\u001b[1;33m)\u001b[0m\u001b[1;33m\u001b[0m\u001b[1;33m\u001b[0m\u001b[0m\n\u001b[0;32m     42\u001b[0m         \u001b[1;32mif\u001b[0m \u001b[0miris_encodings_in_image\u001b[0m \u001b[1;33m!=\u001b[0m\u001b[1;34m\"invalid image\"\u001b[0m\u001b[1;33m:\u001b[0m\u001b[1;33m\u001b[0m\u001b[1;33m\u001b[0m\u001b[0m\n\u001b[1;32m---> 43\u001b[1;33m             \u001b[0mmatch\u001b[0m \u001b[1;33m=\u001b[0m \u001b[0mfind_match\u001b[0m\u001b[1;33m(\u001b[0m\u001b[0miris_encodings\u001b[0m\u001b[1;33m,\u001b[0m \u001b[0mnames\u001b[0m\u001b[1;33m,\u001b[0m \u001b[0miris_encodings_in_image\u001b[0m\u001b[1;33m)\u001b[0m\u001b[1;33m\u001b[0m\u001b[1;33m\u001b[0m\u001b[0m\n\u001b[0m\u001b[0;32m     44\u001b[0m             \u001b[0mq\u001b[0m\u001b[1;33m.\u001b[0m\u001b[0mput\u001b[0m\u001b[1;33m(\u001b[0m\u001b[0mmatch\u001b[0m\u001b[1;33m)\u001b[0m\u001b[1;33m\u001b[0m\u001b[1;33m\u001b[0m\u001b[0m\n\u001b[0;32m     45\u001b[0m         \u001b[1;32melse\u001b[0m\u001b[1;33m:\u001b[0m\u001b[1;33m\u001b[0m\u001b[1;33m\u001b[0m\u001b[0m\n",
      "\u001b[1;32m~\\OneDrive - Insper - Institudo de Ensino e Pesquisa\\Documentos\\Insper\\6-semestre\\visao-computacional\\projeto1_iris_recognition\\G6_iris_recognition\\iris_matching.py\u001b[0m in \u001b[0;36mfind_match\u001b[1;34m(known_iris, names, iris_encodings_in_image)\u001b[0m\n\u001b[0;32m    129\u001b[0m                 \u001b[0mmatchlist\u001b[0m\u001b[1;33m.\u001b[0m\u001b[0mappend\u001b[0m\u001b[1;33m(\u001b[0m\u001b[1;36m2000\u001b[0m\u001b[1;33m)\u001b[0m\u001b[1;33m\u001b[0m\u001b[1;33m\u001b[0m\u001b[0m\n\u001b[0;32m    130\u001b[0m         \u001b[1;31m# print(\"totallist\",matchlist,names,(matchlist.index(min(matchlist))),matchlist[(matchlist.index(min(matchlist)))])\u001b[0m\u001b[1;33m\u001b[0m\u001b[1;33m\u001b[0m\u001b[1;33m\u001b[0m\u001b[0m\n\u001b[1;32m--> 131\u001b[1;33m         \u001b[1;32mif\u001b[0m \u001b[0mmatchlist\u001b[0m\u001b[1;33m[\u001b[0m\u001b[1;33m(\u001b[0m\u001b[0mmatchlist\u001b[0m\u001b[1;33m.\u001b[0m\u001b[0mindex\u001b[0m\u001b[1;33m(\u001b[0m\u001b[0mmin\u001b[0m\u001b[1;33m(\u001b[0m\u001b[0mmatchlist\u001b[0m\u001b[1;33m)\u001b[0m\u001b[1;33m)\u001b[0m\u001b[1;33m)\u001b[0m\u001b[1;33m]\u001b[0m\u001b[1;33m<\u001b[0m\u001b[1;36m45000\u001b[0m\u001b[1;33m:\u001b[0m\u001b[1;33m\u001b[0m\u001b[1;33m\u001b[0m\u001b[0m\n\u001b[0m\u001b[0;32m    132\u001b[0m             \u001b[0mnamevalue\u001b[0m \u001b[1;33m=\u001b[0m \u001b[0mnames\u001b[0m\u001b[1;33m[\u001b[0m\u001b[1;33m(\u001b[0m\u001b[0mmatchlist\u001b[0m\u001b[1;33m.\u001b[0m\u001b[0mindex\u001b[0m\u001b[1;33m(\u001b[0m\u001b[0mmin\u001b[0m\u001b[1;33m(\u001b[0m\u001b[0mmatchlist\u001b[0m\u001b[1;33m)\u001b[0m\u001b[1;33m)\u001b[0m\u001b[1;33m)\u001b[0m\u001b[1;33m]\u001b[0m\u001b[1;33m\u001b[0m\u001b[1;33m\u001b[0m\u001b[0m\n\u001b[0;32m    133\u001b[0m             \u001b[1;31m# print(\"match\",str(namevalue),matchlist[(matchlist.index(min(matchlist)))])\u001b[0m\u001b[1;33m\u001b[0m\u001b[1;33m\u001b[0m\u001b[1;33m\u001b[0m\u001b[0m\n",
      "\u001b[1;31mValueError\u001b[0m: min() arg is an empty sequence"
     ]
    }
   ],
   "source": [
    "iris_name = G6_iris_recognition.iris_model_test(\"model.pickle\",\"./images/0000/0000_000.bmp\")\n",
    "if (iris_name=='unmatch'):\n",
    "    print(\"Deu ruim\")\n",
    "else:\n",
    "    print(\"deu bom\")"
   ]
  },
  {
   "cell_type": "code",
   "execution_count": null,
   "metadata": {
    "id": "nQUx-fvgFEEg"
   },
   "outputs": [],
   "source": []
  }
 ],
 "metadata": {
  "colab": {
   "name": "Projeto1_reconhecimento_de_íris.ipynb",
   "provenance": []
  },
  "kernelspec": {
   "display_name": "Python 3",
   "language": "python",
   "name": "python3"
  },
  "language_info": {
   "codemirror_mode": {
    "name": "ipython",
    "version": 3
   },
   "file_extension": ".py",
   "mimetype": "text/x-python",
   "name": "python",
   "nbconvert_exporter": "python",
   "pygments_lexer": "ipython3",
   "version": "3.8.8"
  }
 },
 "nbformat": 4,
 "nbformat_minor": 1
}
